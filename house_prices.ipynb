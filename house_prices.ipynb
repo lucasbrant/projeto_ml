{
  "nbformat": 4,
  "nbformat_minor": 0,
  "metadata": {
    "kernelspec": {
      "display_name": "Python 3",
      "language": "python",
      "name": "python3"
    },
    "language_info": {
      "codemirror_mode": {
        "name": "ipython",
        "version": 3
      },
      "file_extension": ".py",
      "mimetype": "text/x-python",
      "name": "python",
      "nbconvert_exporter": "python",
      "pygments_lexer": "ipython3",
      "version": "3.8.6"
    },
    "colab": {
      "name": "tp_final_ml.ipynb",
      "provenance": [],
      "collapsed_sections": []
    },
    "accelerator": "GPU"
  },
  "cells": [
    {
      "cell_type": "code",
      "metadata": {
        "id": "lsezQByrcrMU",
        "colab": {
          "base_uri": "https://localhost:8080/"
        },
        "outputId": "0894b33a-2617-4556-bd98-e888a039dad8"
      },
      "source": [
        "#É recomendável executar este notebook usando o google colab com acelerador de GPU.\n",
        "#Faça o download dos dados em https://www.kaggle.com/ted8080/house-prices-and-images-socal\n",
        "#É importante colocar o .RAR dentro do seu google drive\n",
        "\n",
        "from google.colab import drive\n",
        "drive.mount('/content/drive')\n",
        "\n",
        "from zipfile import ZipFile \n",
        "  \n",
        "file = '/content/drive/My Drive/house_archive.zip'\n",
        "\n",
        "with ZipFile(file, 'r') as zip:\n",
        "  print('Extracting all the files now...') \n",
        "  zip.extractall() \n",
        "  print('Done!')"
      ],
      "execution_count": null,
      "outputs": [
        {
          "output_type": "stream",
          "text": [
            "Drive already mounted at /content/drive; to attempt to forcibly remount, call drive.mount(\"/content/drive\", force_remount=True).\n",
            "Extracting all the files now...\n",
            "Done!\n"
          ],
          "name": "stdout"
        }
      ]
    },
    {
      "cell_type": "markdown",
      "metadata": {
        "id": "YbqRDTC-koP-"
      },
      "source": [
        "O propósito deste trabalho é experimentar com a combinação de modelos. O dataset usado é composto por dados númericos/categóricos relacionado à casas acompanhados de imagens das respectivas residências. Serão aplicados uma MLP (Multi-layer Perceptron) e uma CNN, ambas visando prever o valor da casa a partir de seus respectivos dados. Ao final, as duas redes serão concatenadas. Todas estas redes serão implementadas usando Keras.\n",
        "\n",
        "A expectativa é que a rede concatenada consiga um resultado superior àquele obtido pelas redes isoladas. Ex: A MLP prevê que casas com mais banheiros tem valor elevado, enquanto a CNN prevê que casas com telhado vermelho valem menos. A esperança é que o modelo combine esses resultados para encontrar valores mais precisos.\n"
      ]
    },
    {
      "cell_type": "code",
      "metadata": {
        "id": "RT2hTl3UdpbW",
        "colab": {
          "base_uri": "https://localhost:8080/",
          "height": 332
        },
        "outputId": "2fbe1c3b-4b50-4412-f78d-5ff50a15ba7f"
      },
      "source": [
        "import os\n",
        "import gc\n",
        "import cv2\n",
        "import math\n",
        "import itertools\n",
        "import numpy as np\n",
        "import pandas as pd\n",
        "import matplotlib.pyplot as plt\n",
        "import tensorflow as tf\n",
        "\n",
        "import sklearn\n",
        "\n",
        "from sklearn.preprocessing import MinMaxScaler\n",
        "from sklearn.preprocessing import LabelEncoder\n",
        "\n",
        "from sklearn.model_selection import train_test_split\n",
        "from sklearn.model_selection import GridSearchCV\n",
        "\n",
        "from sklearn.ensemble import GradientBoostingRegressor\n",
        "\n",
        "from tensorflow.keras import datasets, layers, models\n",
        "\n",
        "ROOT = './socal2/socal_pics/'\n",
        "\n",
        "df = pd.read_csv('socal2.csv', index_col='image_id')\n",
        "df.head(8)"
      ],
      "execution_count": null,
      "outputs": [
        {
          "output_type": "execute_result",
          "data": {
            "text/html": [
              "<div>\n",
              "<style scoped>\n",
              "    .dataframe tbody tr th:only-of-type {\n",
              "        vertical-align: middle;\n",
              "    }\n",
              "\n",
              "    .dataframe tbody tr th {\n",
              "        vertical-align: top;\n",
              "    }\n",
              "\n",
              "    .dataframe thead th {\n",
              "        text-align: right;\n",
              "    }\n",
              "</style>\n",
              "<table border=\"1\" class=\"dataframe\">\n",
              "  <thead>\n",
              "    <tr style=\"text-align: right;\">\n",
              "      <th></th>\n",
              "      <th>street</th>\n",
              "      <th>citi</th>\n",
              "      <th>n_citi</th>\n",
              "      <th>bed</th>\n",
              "      <th>bath</th>\n",
              "      <th>sqft</th>\n",
              "      <th>price</th>\n",
              "    </tr>\n",
              "    <tr>\n",
              "      <th>image_id</th>\n",
              "      <th></th>\n",
              "      <th></th>\n",
              "      <th></th>\n",
              "      <th></th>\n",
              "      <th></th>\n",
              "      <th></th>\n",
              "      <th></th>\n",
              "    </tr>\n",
              "  </thead>\n",
              "  <tbody>\n",
              "    <tr>\n",
              "      <th>0</th>\n",
              "      <td>1317 Van Buren Avenue</td>\n",
              "      <td>Salton City, CA</td>\n",
              "      <td>317</td>\n",
              "      <td>3</td>\n",
              "      <td>2.0</td>\n",
              "      <td>1560</td>\n",
              "      <td>201900</td>\n",
              "    </tr>\n",
              "    <tr>\n",
              "      <th>1</th>\n",
              "      <td>124 C Street W</td>\n",
              "      <td>Brawley, CA</td>\n",
              "      <td>48</td>\n",
              "      <td>3</td>\n",
              "      <td>2.0</td>\n",
              "      <td>713</td>\n",
              "      <td>228500</td>\n",
              "    </tr>\n",
              "    <tr>\n",
              "      <th>2</th>\n",
              "      <td>2304 Clark Road</td>\n",
              "      <td>Imperial, CA</td>\n",
              "      <td>152</td>\n",
              "      <td>3</td>\n",
              "      <td>1.0</td>\n",
              "      <td>800</td>\n",
              "      <td>273950</td>\n",
              "    </tr>\n",
              "    <tr>\n",
              "      <th>3</th>\n",
              "      <td>755 Brawley Avenue</td>\n",
              "      <td>Brawley, CA</td>\n",
              "      <td>48</td>\n",
              "      <td>3</td>\n",
              "      <td>1.0</td>\n",
              "      <td>1082</td>\n",
              "      <td>350000</td>\n",
              "    </tr>\n",
              "    <tr>\n",
              "      <th>4</th>\n",
              "      <td>2207 R Carrillo Court</td>\n",
              "      <td>Calexico, CA</td>\n",
              "      <td>55</td>\n",
              "      <td>4</td>\n",
              "      <td>3.0</td>\n",
              "      <td>2547</td>\n",
              "      <td>385100</td>\n",
              "    </tr>\n",
              "    <tr>\n",
              "      <th>5</th>\n",
              "      <td>755 Brawley Avenue</td>\n",
              "      <td>Brawley, CA</td>\n",
              "      <td>48</td>\n",
              "      <td>3</td>\n",
              "      <td>1.0</td>\n",
              "      <td>1082</td>\n",
              "      <td>350000</td>\n",
              "    </tr>\n",
              "    <tr>\n",
              "      <th>6</th>\n",
              "      <td>1100 CAMILIA Street</td>\n",
              "      <td>Calexico, CA</td>\n",
              "      <td>55</td>\n",
              "      <td>4</td>\n",
              "      <td>3.0</td>\n",
              "      <td>2769</td>\n",
              "      <td>415000</td>\n",
              "    </tr>\n",
              "    <tr>\n",
              "      <th>7</th>\n",
              "      <td>803 Chaparral Court</td>\n",
              "      <td>Brawley, CA</td>\n",
              "      <td>48</td>\n",
              "      <td>5</td>\n",
              "      <td>2.1</td>\n",
              "      <td>2600</td>\n",
              "      <td>545000</td>\n",
              "    </tr>\n",
              "  </tbody>\n",
              "</table>\n",
              "</div>"
            ],
            "text/plain": [
              "                         street             citi  n_citi  ...  bath  sqft   price\n",
              "image_id                                                  ...                    \n",
              "0         1317 Van Buren Avenue  Salton City, CA     317  ...   2.0  1560  201900\n",
              "1                124 C Street W      Brawley, CA      48  ...   2.0   713  228500\n",
              "2               2304 Clark Road     Imperial, CA     152  ...   1.0   800  273950\n",
              "3            755 Brawley Avenue      Brawley, CA      48  ...   1.0  1082  350000\n",
              "4         2207 R Carrillo Court     Calexico, CA      55  ...   3.0  2547  385100\n",
              "5            755 Brawley Avenue      Brawley, CA      48  ...   1.0  1082  350000\n",
              "6           1100 CAMILIA Street     Calexico, CA      55  ...   3.0  2769  415000\n",
              "7           803 Chaparral Court      Brawley, CA      48  ...   2.1  2600  545000\n",
              "\n",
              "[8 rows x 7 columns]"
            ]
          },
          "metadata": {
            "tags": []
          },
          "execution_count": 2
        }
      ]
    },
    {
      "cell_type": "code",
      "metadata": {
        "id": "rXavhAdKhtwV",
        "colab": {
          "base_uri": "https://localhost:8080/",
          "height": 238
        },
        "outputId": "10003bf4-17a9-45c0-89ff-bb36c4ba8b85"
      },
      "source": [
        "#remove os números de residência de cada entrada\n",
        "for i in df.index:\n",
        "  address = df.loc[i,'street'].split(' ', 1)\n",
        "  df.loc[i,'street'] = address[1]\n",
        "\n",
        "  #remove entradas que não contém número de residência\n",
        "  if df.loc[i,'street'] == 'not provided':\n",
        "    df = df.drop(index=i)\n",
        "\n",
        "encoder = LabelEncoder()\n",
        "\n",
        "#aplica o label encoder na coluna 'street', não precisamos transformar a coluna citi\n",
        "#pois o dataset já vem com a coluna correspondente, 'n_citi'\n",
        "encoded_streets = encoder.fit_transform(np.array(df['street']))\n",
        "df = df.drop(['citi', 'street'], axis=1) #remove as colunas não necessárias\n",
        "\n",
        "df['n_street'] = encoded_streets\n",
        "\n",
        "df = df.astype({'bath': 'int32'}) #corrigindo as entradas fracionais da coluna \"bath\"\n",
        "\n",
        "df.head()"
      ],
      "execution_count": null,
      "outputs": [
        {
          "output_type": "execute_result",
          "data": {
            "text/html": [
              "<div>\n",
              "<style scoped>\n",
              "    .dataframe tbody tr th:only-of-type {\n",
              "        vertical-align: middle;\n",
              "    }\n",
              "\n",
              "    .dataframe tbody tr th {\n",
              "        vertical-align: top;\n",
              "    }\n",
              "\n",
              "    .dataframe thead th {\n",
              "        text-align: right;\n",
              "    }\n",
              "</style>\n",
              "<table border=\"1\" class=\"dataframe\">\n",
              "  <thead>\n",
              "    <tr style=\"text-align: right;\">\n",
              "      <th></th>\n",
              "      <th>n_citi</th>\n",
              "      <th>bed</th>\n",
              "      <th>bath</th>\n",
              "      <th>sqft</th>\n",
              "      <th>price</th>\n",
              "      <th>n_street</th>\n",
              "    </tr>\n",
              "    <tr>\n",
              "      <th>image_id</th>\n",
              "      <th></th>\n",
              "      <th></th>\n",
              "      <th></th>\n",
              "      <th></th>\n",
              "      <th></th>\n",
              "      <th></th>\n",
              "    </tr>\n",
              "  </thead>\n",
              "  <tbody>\n",
              "    <tr>\n",
              "      <th>0</th>\n",
              "      <td>317</td>\n",
              "      <td>3</td>\n",
              "      <td>2</td>\n",
              "      <td>1560</td>\n",
              "      <td>201900</td>\n",
              "      <td>9209</td>\n",
              "    </tr>\n",
              "    <tr>\n",
              "      <th>1</th>\n",
              "      <td>48</td>\n",
              "      <td>3</td>\n",
              "      <td>2</td>\n",
              "      <td>713</td>\n",
              "      <td>228500</td>\n",
              "      <td>1276</td>\n",
              "    </tr>\n",
              "    <tr>\n",
              "      <th>2</th>\n",
              "      <td>152</td>\n",
              "      <td>3</td>\n",
              "      <td>1</td>\n",
              "      <td>800</td>\n",
              "      <td>273950</td>\n",
              "      <td>1995</td>\n",
              "    </tr>\n",
              "    <tr>\n",
              "      <th>3</th>\n",
              "      <td>48</td>\n",
              "      <td>3</td>\n",
              "      <td>1</td>\n",
              "      <td>1082</td>\n",
              "      <td>350000</td>\n",
              "      <td>1107</td>\n",
              "    </tr>\n",
              "    <tr>\n",
              "      <th>4</th>\n",
              "      <td>55</td>\n",
              "      <td>4</td>\n",
              "      <td>3</td>\n",
              "      <td>2547</td>\n",
              "      <td>385100</td>\n",
              "      <td>7172</td>\n",
              "    </tr>\n",
              "  </tbody>\n",
              "</table>\n",
              "</div>"
            ],
            "text/plain": [
              "          n_citi  bed  bath  sqft   price  n_street\n",
              "image_id                                           \n",
              "0            317    3     2  1560  201900      9209\n",
              "1             48    3     2   713  228500      1276\n",
              "2            152    3     1   800  273950      1995\n",
              "3             48    3     1  1082  350000      1107\n",
              "4             55    4     3  2547  385100      7172"
            ]
          },
          "metadata": {
            "tags": []
          },
          "execution_count": 3
        }
      ]
    },
    {
      "cell_type": "markdown",
      "metadata": {
        "id": "i6Wysq-dE0sq"
      },
      "source": [
        "Olhando no dataframe original, podemos ver que algumas linhas de 'bath' estavam com valores fracionados, como \"4.1\", o que não faz muito sentido, então transformamos esses valores em inteiro para remover a parte fracionada.\n",
        "\n",
        "Além disso, podemos observar que a coluna \"street\" contém tanto a rua como o número da residência. É improvável que o número da residência tenha algum impacto no valor final de uma casa, e se mantermos os dado como está não conseguiremos agrupar casas localizadas na mesma rua. Sendo assim, removemos o número de residência das entradas, deixando apenas o nome da rua. Também removemos do dataset entradas que não possuem endereço.\n",
        "\n",
        "A MLP não consegue ler valores categóricos, então precisamos transformá-los em dados numéricos de alguma forma. Podemos aplicar o one-hot-encoding ou apenas codificar cada valor categórico com um número específico. O problema de aplicar o one-hot-encoding é que resultaria na criação de mais de 10000 colunas, o que tem um impacto na otimização do modelo. Por outro lado, o label encoder implica na existência de uma relação de \"grandeza\" entre os dados, o que não é necessariamente verdade. Ex: a rua '3' não é mais próxima da rua '2' do que a rua '20'.\n",
        "\n",
        "Testando empiricamente, encontramos que aplicar o \"labelEncoder\" era melhor do que o one-hot-encoding ou simplesmente ignorar essas colunas."
      ]
    },
    {
      "cell_type": "code",
      "metadata": {
        "id": "zkKS5JDVlFJZ"
      },
      "source": [
        "#cria uma coluna \"path\", para facilitar na leitura de imagens\n",
        "for i in df.index:\n",
        "  df.loc[i, 'path'] = str(i) + \".jpg\"\n",
        "\n",
        "for j in df.index:\n",
        "  path = df.loc[i, 'path']\n",
        "  img = cv2.imread(ROOT + path)\n",
        "  img = cv2.cvtColor(img, cv2.COLOR_BGR2RGB)\n",
        "  img = cv2.resize(img, (256, 256))\n",
        "  \n",
        "  #elimina uma entrada se sua imagem contém \"NaN\" como valor de um pixel\n",
        "  #no dataset em questão não temos casos desse exemplo, mas é bom verificar\n",
        "  if np.any(np.isnan(img)):\n",
        "    df = df.drop(index=i)\n",
        "\n"
      ],
      "execution_count": null,
      "outputs": []
    },
    {
      "cell_type": "markdown",
      "metadata": {
        "id": "QYKl3jGti4B3"
      },
      "source": [
        "Criamos uma coluna 'path', que facilita na leitura de imagens, e logo abaixo verificamos todas as imagens, removendo as que contém valores \"NaN\" em um dos pixels.\n",
        "\n",
        "Logo abaixo temos a separação em conjuntos de treino, teste e validação."
      ]
    },
    {
      "cell_type": "code",
      "metadata": {
        "id": "WP7PpsbsvauI"
      },
      "source": [
        "#split do dataset em treino, validação e teste\n",
        "train_df, val_df = train_test_split(df, test_size=0.3)\n",
        "val_df, test_df = train_test_split(val_df, test_size=0.5)\n",
        "\n",
        "#criação dos datasets de entrada\n",
        "X_train = train_df.drop(['path', 'price'], axis=1)\n",
        "X_val = val_df.drop(['path', 'price'], axis=1)\n",
        "X_test = test_df.drop(['path', 'price'], axis=1)\n",
        "\n",
        "#criação dos conjuntos contendo os valores alvos\n",
        "y_train = train_df['price']\n",
        "y_val = val_df['price']\n",
        "y_test = test_df['price']\n",
        "\n",
        "scaler = MinMaxScaler()\n",
        "\n",
        "#conjuntos de entrada normalizados com o MinMaxScaler\n",
        "X_train_scaled = scaler.fit_transform(X_train)\n",
        "X_val_scaled = scaler.transform(X_val)\n",
        "X_test_scaled = scaler.transform(X_test)"
      ],
      "execution_count": null,
      "outputs": []
    },
    {
      "cell_type": "markdown",
      "metadata": {
        "id": "tHe413-8sy1r"
      },
      "source": [
        "Na célula acima temos a separação dos dados em conjuntos de treino, validação e teste. O conjunto de validação será mais usado para garantir que os modelos não estão overfittando, as métricas finais serão obtidas no conjunto de teste.\n",
        "\n",
        "Até o momento temos apenas os dados numéricos do dataset, mas o objetivo final é criar um modelo capaz de utilizar tanto dados numéricos como imagens, então precisamos obter agora os conjuntos de imagens. Uma solução simples seria ler todas as imagens e colocá-las em um numpy array, mas isso demandaria mais memória do que temos disponível. Sendo assim, precisamos criar nosso próprio gerador de dados customizado, que retorna batches de dados numéricos e imagens."
      ]
    },
    {
      "cell_type": "code",
      "metadata": {
        "id": "R4T4JgAZ0uH-"
      },
      "source": [
        "class DataGenerator(tf.keras.utils.Sequence):\n",
        "    'Generates data for Keras'\n",
        "    def __init__(self, df, scaler, batch_size=38, shuffle=True):\n",
        "        'Initialization'\n",
        "        self.df = df\n",
        "        self.batch_size = batch_size\n",
        "        self.indices = self.df.index.tolist()\n",
        "        self.scaler = scaler\n",
        "        self.ROOT = './socal2/socal_pics/'\n",
        "        self.shuffle=shuffle\n",
        "        self.on_epoch_end()\n",
        "    \n",
        "    def on_epoch_end(self):\n",
        "        self.index = np.arange(len(self.indices))\n",
        "        if self.shuffle == True:\n",
        "            np.random.shuffle(self.index)\n",
        "\n",
        "    def __len__(self):\n",
        "        'Denotes the number of batches per epoch'\n",
        "        return len(self.indices) // self.batch_size\n",
        "    \n",
        "    def __getitem__(self, index):\n",
        "        'Generate one batch of data'\n",
        "        index = self.index[index * self.batch_size:(index + 1) * self.batch_size]\n",
        "        batch = [self.indices[k] for k in index]\n",
        "        \n",
        "        X, y = self.__data_generation(batch)\n",
        "\n",
        "        return X, y\n",
        "\n",
        "    def __data_generation(self, indexes):\n",
        "        'Generates data containing batch_size samples'\n",
        "        y = []\n",
        "        images = []\n",
        "        num_arrays = np.empty((self.batch_size, 5))\n",
        "\n",
        "        #itera pelos indices do batch atual, lendo as imagens de casas e coletando seus\n",
        "        #dados respectivos \n",
        "        for i,j in enumerate(indexes):\n",
        "            path = self.df.loc[j, 'path']\n",
        "            img = cv2.imread(self.ROOT + path)\n",
        "            img = cv2.cvtColor(img, cv2.COLOR_BGR2RGB)\n",
        "            img = cv2.resize(img, (256, 256))\n",
        "            \n",
        "            images.append(img)\n",
        "            num_arrays[i] = df.drop(['path', 'price'], axis=1).loc[j]\n",
        "            y.append(self.df.loc[j, 'price'])\n",
        "                \n",
        "        images = np.array(images, dtype='float32') \n",
        "        images = images / 255.0\n",
        "\n",
        "        #usamos o scaler fornecido para aplicar o MinMaxScaler no conjunto\n",
        "        num_arrays = self.scaler.transform(num_arrays)\n",
        "\n",
        "        y = np.array(y)\n",
        "        X = [num_arrays, images] #X é uma lista contendo os valores numéricos e as imagens\n",
        "        \n",
        "        return X, y\n"
      ],
      "execution_count": null,
      "outputs": []
    },
    {
      "cell_type": "code",
      "metadata": {
        "id": "oWgavFHxeWiv"
      },
      "source": [
        "#obtem os geradores usados no modelo final\n",
        "train_datagen = DataGenerator(train_df, scaler)\n",
        "val_datagen = DataGenerator(val_df, scaler)\n",
        "test_datagen = DataGenerator(test_df, scaler)"
      ],
      "execution_count": null,
      "outputs": []
    },
    {
      "cell_type": "code",
      "metadata": {
        "id": "_h4OJd8n_NzK",
        "colab": {
          "base_uri": "https://localhost:8080/"
        },
        "outputId": "5b9bd538-4a11-4bc5-9581-cdc388fa0063"
      },
      "source": [
        "#obtem os geradores usados na CNN\n",
        "datagen = tf.keras.preprocessing.image.ImageDataGenerator(rescale=1./255.)\n",
        "\n",
        "cnn_train_datagen = datagen.flow_from_dataframe(train_df, directory=ROOT, x_col='path', \n",
        "                                            y_col='price', target_size=(256, 256), class_mode='raw') \n",
        "\n",
        "cnn_val_datagen = datagen.flow_from_dataframe(val_df, directory=ROOT, \n",
        "                                            x_col='path', y_col='price',\n",
        "                                            target_size=(256, 256), class_mode='raw') "
      ],
      "execution_count": null,
      "outputs": [
        {
          "output_type": "stream",
          "text": [
            "Found 10815 validated image filenames.\n",
            "Found 2318 validated image filenames.\n"
          ],
          "name": "stdout"
        }
      ]
    },
    {
      "cell_type": "markdown",
      "metadata": {
        "id": "QemgCyEdyCQd"
      },
      "source": [
        "Antes de criarmos a rede final que concatena ambos os dados, vamos criar as duas redes isoladas, isto é, uma MLP e uma CNN, para avaliar seu desempenho. A MLP usará apenas os valores numéricos para prever o valor da residência, enquanto a CNN usará apenas as fotos das casas.\n",
        "\n",
        "Estes geradores criados na última célula não serão usados no modelo final, mas sim na CNN."
      ]
    },
    {
      "cell_type": "code",
      "metadata": {
        "id": "0wDZPkaNunXh"
      },
      "source": [
        "#cria a mlp\n",
        "def create_mlp(n_layers, n_neurons, n_columns=5, lr=0.01, regress=True):\n",
        "  model = models.Sequential()\n",
        "\n",
        "  #cria uma nova camada de acordo com o parâmetro 'n_layers' fornecido\n",
        "  for i in range(n_layers):\n",
        "    #se esta é a primeira camada, fornecemos também a dimensão da entrada como parâmetro\n",
        "    if i == 0:\n",
        "      model.add(layers.Dense(n_neurons[i], input_dim=n_columns, activation=\"relu\"))\n",
        "    else:\n",
        "      #o número de neurônios presente na camada é especificado na lista 'n_neurons' fornecida\n",
        "      model.add(layers.Dense(n_neurons[i], activation=\"relu\"))\n",
        "\n",
        "  #caso regress==True, insere a cadamada de saída e compila o modelo,\n",
        "  #esse parâmetro é necessário pois em certas ocasiões queremos o modelo sem a camada final\n",
        "  if regress:\n",
        "    model.add(layers.Dense(1, activation=\"linear\"))\n",
        "\n",
        "    opt = tf.keras.optimizers.Adam(learning_rate=lr, name='Adam')\n",
        "    model.compile(optimizer=opt, loss='mae')\n",
        "\n",
        "  return model\n"
      ],
      "execution_count": null,
      "outputs": []
    },
    {
      "cell_type": "markdown",
      "metadata": {
        "id": "YUgN2wb91BKH"
      },
      "source": [
        "A função acima retorna uma MLP. A função foi parametrizada pois mais abaixo iremos otimizar a estrutura da MLP com o gridsearch."
      ]
    },
    {
      "cell_type": "code",
      "metadata": {
        "id": "HwGxJzaeAC1k"
      },
      "source": [
        "#cria a cnn\n",
        "def create_resnet(neurons, input_shape=(256, 256, 3), lr=0.01, regress=True):\n",
        "  #a base da nossa CNN será a resnet50, inicializada com pesos pré-treinados do imagenet\n",
        "  resnet = tf.keras.applications.ResNet50(include_top=False, weights='imagenet', input_shape=input_shape)\n",
        "  \n",
        "  #colapsamos a saída da resnet em uma única dimensão e a conectamos em uma camada densa\n",
        "  #com o número de neurônions especificado\n",
        "  x = layers.Flatten()(resnet)\n",
        "  x = layers.Dense(neurons, activation='relu')(x)\n",
        "\n",
        "  #caso regress==True, insere a cadamada de saída e compila o modelo,\n",
        "  #esse parâmetro é necessário pois em certas ocasiões queremos o modelo sem a camada final\n",
        "  if regress:\n",
        "    x = layers.Dense(1, activation=\"linear\")(x)\n",
        "    model = models.Model(inputs=resnet.inputs, outputs=x)\n",
        "\n",
        "    opt = tf.keras.optimizers.Adam(learning_rate=lr, name='Adam')\n",
        "    model.compile(optimizer=opt, loss='mae')\n",
        "\n",
        "    return model\n",
        "\n",
        "  \n",
        "  model = models.Model(inputs=resnet.inputs, outputs=x)\n",
        "\n",
        "  return model"
      ],
      "execution_count": null,
      "outputs": []
    },
    {
      "cell_type": "markdown",
      "metadata": {
        "id": "xk4LMXy9Mf7J"
      },
      "source": [
        "Testou-se várias CNNs criadas do zero mas os resultados obtidos estavam bem piores do que o esperado, então optou-se por usar a resnet50 como um modelo base, que é uma CNN com uma arquitetura específica que apresenta bom desempenho.\n",
        "\n",
        "A resnet pode ser chamada de uma \"rede residual\". É formadas por \"blocos residuais\", que são basicamente duas camadadas conectadas de tal forma que a saída da primeira também é concatenada na saída da segunda, como mostrado na figura abaixo:\n",
        "\n",
        "![image.png](data:image/png;base64,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)\n",
        "\n",
        "Não vamos explorar mais a fundo o funcionamento das resnets, o importante é saber que elas são redes convolucionais com bom desempenho. Após extração de features com a resnet ligamos o modelo à uma camada densa que tenta prever o valor das casas."
      ]
    },
    {
      "cell_type": "code",
      "metadata": {
        "id": "Qq1C-Ot0UQ36"
      },
      "source": [
        "#demora mais de 4 horas para executar, os resultados obtidos foram\n",
        "#Best score: -219828.484375 using: {'lr': 0.01, 'n_layers': 3, 'n_neurons': (32, 8, 4)}\n",
        "\n",
        "callback = tf.keras.callbacks.EarlyStopping(monitor='loss', patience=3, restore_best_weights=True)\n",
        "model = tf.keras.wrappers.scikit_learn.KerasRegressor(build_fn=create_mlp, epochs=15, verbose=0)\n",
        "\n",
        "#define os parametros a serem usados na gridsearch\n",
        "learn_rate = [0.1, 0.01, 0.001]\n",
        "n_neurons = list(itertools.permutations([4, 8, 16, 32, 64]))\n",
        "n_layers = [1, 2, 3, 4, 5]\n",
        "\n",
        "param_grid = dict(lr=learn_rate, n_neurons=n_neurons, n_layers=n_layers)\n",
        "\n",
        "grid = GridSearchCV(estimator=model, param_grid=param_grid, cv=5)\n",
        "grid_result = grid.fit(X_train_scaled, y_train, callbacks=callback)\n",
        "\n",
        "print(f\"Best score: {grid_result.best_score_} using: {grid_result.best_params_}\")"
      ],
      "execution_count": null,
      "outputs": []
    },
    {
      "cell_type": "markdown",
      "metadata": {
        "id": "l76hnR0gQd_7"
      },
      "source": [
        "Na célula acima executamos o grid search do scikit learn para descobrir os melhores parâmetros para a MLP, variando número de camadas, número de neurônios em cada camada e taxa de aprendizado. O score obtido é negativo devido à implementação do grid search, que visa sempre maximizar a função de perda e portanto a saída é negada para que a busca funciona corretamente.\n",
        "\n",
        "Com as funções prontas, podemos agora criar nossos modelos. Todos eles serão treinados em 20 épocas, usando early stopping para interromper o treino caso a perda obtida não esteja melhorando. Como estamos usando um modelo de regressão, a função de perda utilizada é o erro médio absoluto."
      ]
    },
    {
      "cell_type": "code",
      "metadata": {
        "id": "qOXqAhE0y8QY"
      },
      "source": [
        "mlp_model = create_mlp(3, [32, 8, 4], lr=0.1)\n",
        "\n",
        "history = mlp_model.fit(x=X_train_scaled, y=y_train, epochs=20, validation_data=(X_val_scaled, y_val), callbacks=[callback])"
      ],
      "execution_count": null,
      "outputs": []
    },
    {
      "cell_type": "markdown",
      "metadata": {
        "id": "Psw4ooQKTqh4"
      },
      "source": [
        "Criamos a MLP usando melhores parâmetros obtidos pelo gridsearch. Podemos ver que a perda de validação está bem próxima da perda no treino, então podemos dizer que o modelo não está overfittado.\n",
        "\n",
        "Ainda assim, o erro obtido está bem alto. Em média, o valor previsto pelo modelo difere em aproximadamente 220 mil do valor real, de acordo com o erro de validação."
      ]
    },
    {
      "cell_type": "code",
      "metadata": {
        "id": "yARzq-0P1TzV"
      },
      "source": [
        "res_model = create_resnet(4, lr=0.1)\n",
        "\n",
        "history = res_model.fit(cnn_train_datagen, epochs=20, validation_data=cnn_val_datagen, callbacks=[callback])"
      ],
      "execution_count": null,
      "outputs": []
    },
    {
      "cell_type": "markdown",
      "metadata": {
        "id": "JE5mXFmkUnLy"
      },
      "source": [
        "Criamos resnet usando a mesma taxa de aprendizado que usamos na MLP. Podemos ver que o resultado obtido é um pouco pior que aquele obtido na MLP, em média diferindo 225 mil do valor real. O modelo também não parece estar overfittando.\n",
        "\n",
        "Iremos agora criar a rede final, composta por ambas a CNN e a MLP. As duas redes serão criadas sem uma camada final, e terão suas penúltimas camadas concatenadas, como na figura abaixo:\n",
        "\n",
        "![mlp_res_model.png](data:image/png;base64,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)\n",
        "\n"
      ]
    },
    {
      "cell_type": "code",
      "metadata": {
        "id": "8mVKjpnCkQcM"
      },
      "source": [
        "mlp = create_mlp(3, [32, 8, 4], lr=0.1, regress=False)\n",
        "res = create_resnet(4, lr=0.1, regress=False)\n",
        "\n",
        "combined = layers.concatenate([mlp.output, res.output]) #concatena as duas ultimas camadas\n",
        "\n",
        "#insere uma camada densa e a camada final com ativacao linear\n",
        "x = layers.Dense(4, activation=\"relu\")(combined)\n",
        "x = layers.Dense(1, activation=\"linear\")(x)\n",
        "\n",
        "mlp_res_model = models.Model(inputs=[mlp.input, res.input], outputs=x)"
      ],
      "execution_count": null,
      "outputs": []
    },
    {
      "cell_type": "code",
      "metadata": {
        "id": "PNRtRMUFoJOT"
      },
      "source": [
        "opt = tf.keras.optimizers.Adam(learning_rate=0.1, name='Adam')\n",
        "\n",
        "mlp_res_model.compile(optimizer=opt, loss='mae')\n",
        "\n",
        "history = mlp_res_model.fit(train_datagen, epochs=20, validation_data=val_datagen, callbacks=[callback])"
      ],
      "execution_count": null,
      "outputs": []
    },
    {
      "cell_type": "code",
      "metadata": {
        "id": "74p1FCjPfqbO"
      },
      "source": [
        "y_pred = mlp_res_model.predict(test_datagen)\n",
        "\n",
        "sklearn.metrics.mean_absolute_error(y_test, y_pred)"
      ],
      "execution_count": null,
      "outputs": []
    },
    {
      "cell_type": "code",
      "metadata": {
        "id": "0lUocZIiKzxn"
      },
      "source": [
        "clf = GradientBoostingRegressor(n_estimators=1000).fit(X_train_scaled, y_train)\n",
        "y_pred = clf.predict(X_test_scaled)\n",
        "\n",
        "sklearn.metrics.mean_absolute_error(y_test, y_pred)"
      ],
      "execution_count": null,
      "outputs": []
    }
  ]
}